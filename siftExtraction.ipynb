{
 "cells": [
  {
   "cell_type": "code",
   "execution_count": null,
   "metadata": {
    "colab": {
     "base_uri": "https://localhost:8080/"
    },
    "executionInfo": {
     "elapsed": 78782,
     "status": "ok",
     "timestamp": 1741575813514,
     "user": {
      "displayName": "Parsal Silwal",
      "userId": "06443225073077138594"
     },
     "user_tz": -345
    },
    "id": "VTHSZLQrAAe6",
    "outputId": "000981d1-3b5a-41dd-c96b-2b4bae713ac0"
   },
   "outputs": [
    {
     "name": "stdout",
     "output_type": "stream",
     "text": [
      "Mounted at /content/drive\n",
      " Saved descriptors for 10 at /content/drive/My Drive/banknote_project/Desc/10.npy\n",
      " Saved descriptors for 100 at /content/drive/My Drive/banknote_project/Desc/100.npy\n",
      " Saved descriptors for 1000 at /content/drive/My Drive/banknote_project/Desc/1000.npy\n",
      " Saved descriptors for 20 at /content/drive/My Drive/banknote_project/Desc/20.npy\n",
      " Saved descriptors for 5 at /content/drive/My Drive/banknote_project/Desc/5.npy\n",
      " Saved descriptors for 50 at /content/drive/My Drive/banknote_project/Desc/50.npy\n",
      " Saved descriptors for 500 at /content/drive/My Drive/banknote_project/Desc/500.npy\n"
     ]
    }
   ],
   "source": [
    "from google.colab import drive\n",
    "import cv2\n",
    "import numpy as np\n",
    "import os\n",
    "\n",
    "# Step 1: Mount Google Drive\n",
    "drive.mount('/content/drive')\n",
    "\n",
    "# Step 2: Set up paths inside Google Drive\n",
    "base_path = \"/content/drive/My Drive/banknote_project\"\n",
    "image_folder = os.path.join(base_path, \"currency_images\")  # Folder containing images\n",
    "descriptor_folder = os.path.join(base_path, \"Desc\")  # Folder to save descriptors\n",
    "\n",
    "# Ensure the descriptor folder exists\n",
    "os.makedirs(descriptor_folder, exist_ok=True)\n",
    "\n",
    "# Step 3: Initialize SIFT feature detector\n",
    "sift = cv2.SIFT_create()\n",
    "\n",
    "# List of denominations\n",
    "classNames = ['10', '100', '1000', '20', '5', '50', '500']\n",
    "\n",
    "def extract_and_save_descriptors():\n",
    "    for className in classNames:\n",
    "        image_path = os.path.join(image_folder, f\"{className}.jpg\")  # Image filename should match denomination\n",
    "\n",
    "        if not os.path.exists(image_path):\n",
    "            print(f\" Warning: {image_path} not found. Skipping...\")\n",
    "            continue\n",
    "\n",
    "        # Read image in grayscale\n",
    "        img = cv2.imread(image_path, cv2.IMREAD_GRAYSCALE)\n",
    "        if img is None:\n",
    "            print(f\" Error loading {image_path}\")\n",
    "            continue\n",
    "\n",
    "        # Apply Canny Edge Detection\n",
    "        edges = cv2.Canny(img, 100, 200)  # Thresholds (100, 200)\n",
    "\n",
    "        # Detect keypoints and compute descriptors on edges\n",
    "        keypoints, descriptors = sift.detectAndCompute(edges, None)\n",
    "\n",
    "        if descriptors is None:\n",
    "            print(f\" No descriptors found for {className}. Skipping...\")\n",
    "            continue\n",
    "\n",
    "        # Save descriptors as .npy file in Google Drive\n",
    "        descriptor_path = os.path.join(descriptor_folder, f\"{className}.npy\")\n",
    "        with open(descriptor_path, \"wb\") as file:\n",
    "            np.save(file, descriptors)\n",
    "\n",
    "        print(f\" Saved descriptors for {className} at {descriptor_path}\")\n",
    "\n",
    "# Run descriptor extraction and saving\n",
    "extract_and_save_descriptors()\n"
   ]
  },
  {
   "cell_type": "code",
   "execution_count": 2,
   "metadata": {
    "colab": {
     "base_uri": "https://localhost:8080/"
    },
    "executionInfo": {
     "elapsed": 22,
     "status": "ok",
     "timestamp": 1741575838005,
     "user": {
      "displayName": "Parsal Silwal",
      "userId": "06443225073077138594"
     },
     "user_tz": -345
    },
    "id": "d7C8_2xvAIC4",
    "outputId": "a3346750-1e7c-4487-b764-542edc3d631d"
   },
   "outputs": [
    {
     "name": "stdout",
     "output_type": "stream",
     "text": [
      "Shape of stored descriptors: (3171, 128)\n",
      "Total number of elements: 405888\n"
     ]
    }
   ],
   "source": [
    "import numpy as np\n",
    "\n",
    "# Load the .npy file directly\n",
    "data = np.load('/content/drive/MyDrive/banknote_project/Desc/10.npy', allow_pickle=False)\n",
    "\n",
    "# Check the loaded data shape\n",
    "print(\"Shape of stored descriptors:\", data.shape)\n",
    "print(\"Total number of elements:\", data.size)"
   ]
  },
  {
   "cell_type": "code",
   "execution_count": 3,
   "metadata": {
    "colab": {
     "base_uri": "https://localhost:8080/"
    },
    "executionInfo": {
     "elapsed": 7074,
     "status": "ok",
     "timestamp": 1741576065166,
     "user": {
      "displayName": "Parsal Silwal",
      "userId": "06443225073077138594"
     },
     "user_tz": -345
    },
    "id": "RB2EPXyFAles",
    "outputId": "1ad922e1-800d-453e-f423-25a6a9618a6e"
   },
   "outputs": [
    {
     "name": "stdout",
     "output_type": "stream",
     "text": [
      "Drive already mounted at /content/drive; to attempt to forcibly remount, call drive.mount(\"/content/drive\", force_remount=True).\n",
      " ✅ Saved descriptors for 10 at /content/drive/My Drive/banknote_project/Descr/10.npy\n",
      " ✅ Saved descriptors for 100 at /content/drive/My Drive/banknote_project/Descr/100.npy\n",
      " ✅ Saved descriptors for 1000 at /content/drive/My Drive/banknote_project/Descr/1000.npy\n",
      " ✅ Saved descriptors for 20 at /content/drive/My Drive/banknote_project/Descr/20.npy\n",
      " ✅ Saved descriptors for 5 at /content/drive/My Drive/banknote_project/Descr/5.npy\n",
      " ✅ Saved descriptors for 50 at /content/drive/My Drive/banknote_project/Descr/50.npy\n",
      " ✅ Saved descriptors for 500 at /content/drive/My Drive/banknote_project/Descr/500.npy\n"
     ]
    }
   ],
   "source": [
    "from google.colab import drive\n",
    "import cv2\n",
    "import numpy as np\n",
    "import os\n",
    "\n",
    "# Step 1: Mount Google Drive\n",
    "drive.mount('/content/drive')\n",
    "\n",
    "# Step 2: Set up paths inside Google Drive\n",
    "base_path = \"/content/drive/My Drive/banknote_project\"\n",
    "image_folder = os.path.join(base_path, \"currency_images\")  # Folder containing images\n",
    "descriptor_folder = os.path.join(base_path, \"Descr\")  # Folder to save descriptors\n",
    "\n",
    "# Ensure the descriptor folder exists\n",
    "os.makedirs(descriptor_folder, exist_ok=True)\n",
    "\n",
    "# Step 3: Initialize SIFT feature detector\n",
    "sift = cv2.SIFT_create()\n",
    "\n",
    "# List of denominations\n",
    "classNames = ['10', '100', '1000', '20', '5', '50', '500']\n",
    "\n",
    "def extract_and_save_descriptors():\n",
    "    for className in classNames:\n",
    "        image_path = os.path.join(image_folder, f\"{className}.jpg\")  # Image filename should match denomination\n",
    "\n",
    "        if not os.path.exists(image_path):\n",
    "            print(f\" Warning: {image_path} not found. Skipping...\")\n",
    "            continue\n",
    "\n",
    "        # Step 1: Read image in grayscale\n",
    "        img = cv2.imread(image_path, cv2.IMREAD_GRAYSCALE)\n",
    "        if img is None:\n",
    "            print(f\" Error loading {image_path}\")\n",
    "            continue\n",
    "\n",
    "        # Step 2: Apply Gaussian Blur to reduce noise\n",
    "        blurred = cv2.GaussianBlur(img, (5, 5), 1.5)  # Kernel size (5,5) and sigma=1.5\n",
    "\n",
    "        # Step 3: Apply Canny Edge Detection\n",
    "        edges = cv2.Canny(blurred, 100, 200)  # Canny thresholds (100, 200)\n",
    "\n",
    "        # Step 4: Detect keypoints and compute descriptors on edges\n",
    "        keypoints, descriptors = sift.detectAndCompute(edges, None)\n",
    "\n",
    "        if descriptors is None:\n",
    "            print(f\" No descriptors found for {className}. Skipping...\")\n",
    "            continue\n",
    "\n",
    "        # Step 5: Save descriptors as .npy file in Google Drive\n",
    "        descriptor_path = os.path.join(descriptor_folder, f\"{className}.npy\")\n",
    "        with open(descriptor_path, \"wb\") as file:\n",
    "            np.save(file, descriptors)\n",
    "\n",
    "        print(f\" ✅ Saved descriptors for {className} at {descriptor_path}\")\n",
    "\n",
    "# Run descriptor extraction and saving\n",
    "extract_and_save_descriptors()\n"
   ]
  },
  {
   "cell_type": "code",
   "execution_count": 10,
   "metadata": {
    "colab": {
     "base_uri": "https://localhost:8080/"
    },
    "executionInfo": {
     "elapsed": 13,
     "status": "ok",
     "timestamp": 1741576136408,
     "user": {
      "displayName": "Parsal Silwal",
      "userId": "06443225073077138594"
     },
     "user_tz": -345
    },
    "id": "TqJYWm2WBbN2",
    "outputId": "8daa0efd-c925-4808-b3c1-b6e25f8384a3"
   },
   "outputs": [
    {
     "name": "stdout",
     "output_type": "stream",
     "text": [
      "Shape of stored descriptors: (1515, 128)\n",
      "Total number of elements: 193920\n"
     ]
    }
   ],
   "source": [
    "import numpy as np\n",
    "\n",
    "# Load the .npy file directly\n",
    "data = np.load('/content/drive/MyDrive/banknote_project/Descr/100.npy', allow_pickle=False)\n",
    "\n",
    "# Check the loaded data shape\n",
    "print(\"Shape of stored descriptors:\", data.shape)\n",
    "print(\"Total number of elements:\", data.size)"
   ]
  },
  {
   "cell_type": "code",
   "execution_count": null,
   "metadata": {
    "colab": {
     "base_uri": "https://localhost:8080/"
    },
    "executionInfo": {
     "elapsed": 4810,
     "status": "ok",
     "timestamp": 1741576472514,
     "user": {
      "displayName": "Parsal Silwal",
      "userId": "06443225073077138594"
     },
     "user_tz": -345
    },
    "id": "wB4-2P8QBjxz",
    "outputId": "d7a4a787-464a-4e60-b5af-efb111631aa9"
   },
   "outputs": [
    {
     "name": "stdout",
     "output_type": "stream",
     "text": [
      " ✅ Saved descriptors for 10 at /content/drive/My Drive/banknote_project/Descrp/10.npy\n",
      " ✅ Saved descriptors for 100 at /content/drive/My Drive/banknote_project/Descrp/100.npy\n",
      " ✅ Saved descriptors for 1000 at /content/drive/My Drive/banknote_project/Descrp/1000.npy\n",
      " ✅ Saved descriptors for 20 at /content/drive/My Drive/banknote_project/Descrp/20.npy\n",
      " ✅ Saved descriptors for 5 at /content/drive/My Drive/banknote_project/Descrp/5.npy\n",
      " ✅ Saved descriptors for 50 at /content/drive/My Drive/banknote_project/Descrp/50.npy\n",
      " ✅ Saved descriptors for 500 at /content/drive/My Drive/banknote_project/Descrp/500.npy\n"
     ]
    }
   ],
   "source": [
    "import cv2\n",
    "import numpy as np\n",
    "import os\n",
    "\n",
    "\n",
    "\n",
    "base_path = \"/content/drive/My Drive/banknote_project\"\n",
    "image_folder = os.path.join(base_path, \"currency_images\")  # Folder containing images\n",
    "descriptor_folder = os.path.join(base_path, \"Descrp\")  # Folder to save descriptors\n",
    "\n",
    "\n",
    "os.makedirs(descriptor_folder, exist_ok=True)\n",
    "\n",
    "# Initialize SIFT feature detector\n",
    "sift = cv2.SIFT_create()\n",
    "\n",
    "# List of denominations\n",
    "classNames = ['10', '100', '1000', '20', '5', '50', '500']\n",
    "\n",
    "def extract_and_save_descriptors():\n",
    "    for className in classNames:\n",
    "        image_path = os.path.join(image_folder, f\"{className}.jpg\")  # Image filename should match denomination\n",
    "\n",
    "        if not os.path.exists(image_path):\n",
    "            print(f\" Warning: {image_path} not found. Skipping...\")\n",
    "            continue\n",
    "\n",
    "        # Step 1: Read image in grayscale\n",
    "        img = cv2.imread(image_path, cv2.IMREAD_GRAYSCALE)\n",
    "        if img is None:\n",
    "            print(f\" Error loading {image_path}\")\n",
    "            continue\n",
    "\n",
    "        # Step 2: Apply Gaussian Blur to reduce noise\n",
    "        blurred = cv2.GaussianBlur(img, (5, 5), 1.5)  # Kernel size (5,5) and sigma=1.5\n",
    "\n",
    "        # Step 3: Apply Canny Edge Detection\n",
    "        edges = cv2.Canny(blurred, 50, 150)  # Canny thresholds (50, 150)\n",
    "\n",
    "        # Step 4: Detect keypoints and compute descriptors on edges\n",
    "        keypoints, descriptors = sift.detectAndCompute(edges, None)\n",
    "\n",
    "        if descriptors is None:\n",
    "            print(f\" No descriptors found for {className}. Skipping...\")\n",
    "            continue\n",
    "\n",
    "        # Step 5: Save descriptors as .npy file in Google Drive\n",
    "        descriptor_path = os.path.join(descriptor_folder, f\"{className}.npy\")\n",
    "        with open(descriptor_path, \"wb\") as file:\n",
    "            np.save(file, descriptors)\n",
    "\n",
    "        print(f\" ✅ Saved descriptors for {className} at {descriptor_path}\")\n",
    "\n",
    "# Run descriptor extraction and saving\n",
    "extract_and_save_descriptors()\n"
   ]
  },
  {
   "cell_type": "code",
   "execution_count": 14,
   "metadata": {
    "colab": {
     "base_uri": "https://localhost:8080/"
    },
    "executionInfo": {
     "elapsed": 55,
     "status": "ok",
     "timestamp": 1741576482644,
     "user": {
      "displayName": "Parsal Silwal",
      "userId": "06443225073077138594"
     },
     "user_tz": -345
    },
    "id": "-ZCEJus-Cxgz",
    "outputId": "38fab2b2-f3cc-4b58-f730-eb0f4eb339a0"
   },
   "outputs": [
    {
     "name": "stdout",
     "output_type": "stream",
     "text": [
      "Shape of stored descriptors: (4209, 128)\n",
      "Total number of elements: 538752\n"
     ]
    }
   ],
   "source": [
    "import numpy as np\n",
    "\n",
    "# Load the .npy file directly\n",
    "data = np.load('/content/drive/MyDrive/banknote_project/Descrp/100.npy', allow_pickle=False)\n",
    "\n",
    "# Check the loaded data shape\n",
    "print(\"Shape of stored descriptors:\", data.shape)\n",
    "print(\"Total number of elements:\", data.size)"
   ]
  },
  {
   "cell_type": "code",
   "execution_count": 15,
   "metadata": {
    "colab": {
     "base_uri": "https://localhost:8080/"
    },
    "executionInfo": {
     "elapsed": 41,
     "status": "ok",
     "timestamp": 1741576745717,
     "user": {
      "displayName": "Parsal Silwal",
      "userId": "06443225073077138594"
     },
     "user_tz": -345
    },
    "id": "GlYuI_pEDC2w",
    "outputId": "6132d59a-0003-48f5-90c1-8897ba25fc14"
   },
   "outputs": [
    {
     "name": "stdout",
     "output_type": "stream",
     "text": [
      "[[104.  12.   0.   0.  10.   1.   0.   0.  59.   6.   0.   0. 116.  18.\n",
      "    2.  21.  65.  12.   4.   5.  10.   3.  25. 116.  13.   2.   5.  91.\n",
      "   19.  16.  24.  61. 116.  17.   0.   0.   5.   1.   0.   0. 113.  24.\n",
      "    0.   0. 116.  21.   0.   7. 116.  88.  14.  18.  30.   7.   3.  40.\n",
      "    7.   9.  13. 116.  56.  30.  38.  28. 111.  12.   0.   0.   2.   0.\n",
      "    0.   0. 116.  12.   0.   0. 116.  19.   0.   6. 116.  37.  18.   5.\n",
      "   32.  10.   1.  19.  11.  35.  23.  77.  32.  24.  33.  11.  78.   9.\n",
      "    0.   0.   0.   0.   0.   0. 103.  15.   0.   1.  99.  10.   0.   1.\n",
      "   97.  34.   1.   3.  32.   9.   6.   7.   8.   8.   3.  28.  91.   6.\n",
      "    6.   6.]\n",
      " [ 79.   3.   4.   5.   7.   8.   6.  53.  24.   8.   7.   9.  94.  21.\n",
      "    2.   4. 113.   1.   0.   2. 102.   7.   0.   3.   3.   0.   0.   0.\n",
      "  100.   0.   0.   0.  28.  31.  41.  12.  12.  28.  24.  73.  30.   6.\n",
      "    1.  33. 117.  36.  17.   6. 117.   4.   0.  12. 117.   1.   0.   1.\n",
      "    4.   0.   0.   0. 117.   0.   0.   0.  46.  24.  32.  23.   8.  11.\n",
      "   25. 117.  32.   4.   5.  52. 117.  72.  12.  14. 117.   5.   0.   7.\n",
      "  117.  10.   0.   2.   4.   0.   0.   0. 117.   2.   0.   0.  12.  16.\n",
      "   28.  91.  13.   2.   7.  55.  22.   2.  33. 117.  50.   7.   2.   2.\n",
      "  117.   6.   1.  15.  72.   2.   0.   3.   3.   0.   0.   3.  95.   3.\n",
      "    0.   0.]]\n"
     ]
    }
   ],
   "source": [
    "print(data[:2])"
   ]
  },
  {
   "cell_type": "code",
   "execution_count": null,
   "metadata": {
    "id": "DAzrjSefEDE9"
   },
   "outputs": [],
   "source": []
  }
 ],
 "metadata": {
  "colab": {
   "authorship_tag": "ABX9TyOVOSo82wT3fGJ042HKcgJI",
   "provenance": []
  },
  "kernelspec": {
   "display_name": "Python 3",
   "name": "python3"
  },
  "language_info": {
   "name": "python"
  }
 },
 "nbformat": 4,
 "nbformat_minor": 0
}
