{
 "cells": [
  {
   "cell_type": "code",
   "execution_count": 1,
   "metadata": {
    "colab": {
     "base_uri": "https://localhost:8080/"
    },
    "executionInfo": {
     "elapsed": 128942,
     "status": "ok",
     "timestamp": 1741101638085,
     "user": {
      "displayName": "Parsal Silwal",
      "userId": "06443225073077138594"
     },
     "user_tz": -345
    },
    "id": "ROUubzi1_1lc",
    "outputId": "109ee382-509d-4225-87e7-6d152ba44e3f"
   },
   "outputs": [
    {
     "name": "stdout",
     "output_type": "stream",
     "text": [
      "Drive already mounted at /content/drive; to attempt to forcibly remount, call drive.mount(\"/content/drive\", force_remount=True).\n",
      " Saved descriptors for 10 at /content/drive/My Drive/banknote_project/descriptors/10.npy\n",
      " Saved descriptors for 100 at /content/drive/My Drive/banknote_project/descriptors/100.npy\n",
      " Saved descriptors for 1000 at /content/drive/My Drive/banknote_project/descriptors/1000.npy\n",
      " Saved descriptors for 20 at /content/drive/My Drive/banknote_project/descriptors/20.npy\n",
      " Saved descriptors for 5 at /content/drive/My Drive/banknote_project/descriptors/5.npy\n",
      " Saved descriptors for 50 at /content/drive/My Drive/banknote_project/descriptors/50.npy\n",
      " Saved descriptors for 500 at /content/drive/My Drive/banknote_project/descriptors/500.npy\n"
     ]
    }
   ],
   "source": [
    "from google.colab import drive\n",
    "import cv2\n",
    "import numpy as np\n",
    "import os\n",
    "\n",
    "# Step 1: Mount Google Drive\n",
    "drive.mount('/content/drive')\n",
    "\n",
    "# Step 2: Set up paths inside Google Drive\n",
    "base_path = \"/content/drive/My Drive/banknote_project\"\n",
    "image_folder = os.path.join(base_path, \"currency_images\")  # Folder containing images\n",
    "descriptor_folder = os.path.join(base_path, \"descriptors\")  # Folder to save descriptors\n",
    "\n",
    "# Ensure the descriptor folder exists\n",
    "os.makedirs(descriptor_folder, exist_ok=True)\n",
    "\n",
    "# Step 3: Initialize SIFT feature detector\n",
    "sift = cv2.SIFT_create()\n",
    "\n",
    "# List of denominations\n",
    "classNames = ['10', '100', '1000', '20', '5', '50', '500']\n",
    "\n",
    "def extract_and_save_descriptors():\n",
    "    for className in classNames:\n",
    "        image_path = os.path.join(image_folder, f\"{className}.jpg\")  # Image filename should match denomination\n",
    "\n",
    "        if not os.path.exists(image_path):\n",
    "            print(f\" Warning: {image_path} not found. Skipping...\")\n",
    "            continue\n",
    "\n",
    "        # Read image in grayscale\n",
    "        img = cv2.imread(image_path, cv2.IMREAD_GRAYSCALE)\n",
    "        if img is None:\n",
    "            print(f\" Error loading {image_path}\")\n",
    "            continue\n",
    "\n",
    "        # Detect keypoints and compute descriptors\n",
    "        keypoints, descriptors = sift.detectAndCompute(img, None)\n",
    "\n",
    "        if descriptors is None:\n",
    "            print(f\" No descriptors found for {className}. Skipping...\")\n",
    "            continue\n",
    "\n",
    "        # Save descriptors as .npy file in Google Drive\n",
    "        descriptor_path = os.path.join(descriptor_folder, f\"{className}.npy\")\n",
    "        with open(descriptor_path, \"wb\") as file:\n",
    "            np.save(file, descriptors)\n",
    "\n",
    "        print(f\" Saved descriptors for {className} at {descriptor_path}\")\n",
    "\n",
    "# Run descriptor extraction and saving\n",
    "extract_and_save_descriptors()\n"
   ]
  },
  {
   "cell_type": "code",
   "execution_count": null,
   "metadata": {
    "colab": {
     "base_uri": "https://localhost:8080/"
    },
    "executionInfo": {
     "elapsed": 15,
     "status": "ok",
     "timestamp": 1740984267728,
     "user": {
      "displayName": "Parsal Silwal",
      "userId": "06443225073077138594"
     },
     "user_tz": -345
    },
    "id": "p5PLZcJHAEet",
    "outputId": "76fda98f-462c-4928-8f34-c233661ab032"
   },
   "outputs": [
    {
     "name": "stdout",
     "output_type": "stream",
     "text": [
      "Shape of stored descriptors: (3594, 128)\n",
      "Total number of elements: 460032\n"
     ]
    }
   ],
   "source": [
    "import numpy as np\n",
    "\n",
    "# Load the .npy file directly\n",
    "data = np.load('/content/drive/MyDrive/banknote_project/descriptors/10.npy', allow_pickle=False)\n",
    "\n",
    "# Check the loaded data shape\n",
    "print(\"Shape of stored descriptors:\", data.shape)\n",
    "print(\"Total number of elements:\", data.size)"
   ]
  },
  {
   "cell_type": "code",
   "execution_count": null,
   "metadata": {
    "colab": {
     "base_uri": "https://localhost:8080/"
    },
    "executionInfo": {
     "elapsed": 46,
     "status": "ok",
     "timestamp": 1740984271571,
     "user": {
      "displayName": "Parsal Silwal",
      "userId": "06443225073077138594"
     },
     "user_tz": -345
    },
    "id": "pzXw4pcIAvE2",
    "outputId": "bc44ea1b-655f-4f17-d6b6-6a0a61ae6273"
   },
   "outputs": [
    {
     "name": "stdout",
     "output_type": "stream",
     "text": [
      "[[  4.   2.   5.  57.  37.   4.   9.  13. 163.   4.   1.  12.  11.   1.\n",
      "   15.  75. 163.  13.   0.   1.   1.   0.   0.  16.  33.   1.   2.  13.\n",
      "    8.   1.   1.   1.   1.   0.   0.   9.  14.  17.  98.  73.  87.   8.\n",
      "    0.   0.   1.   7.  69. 121. 163.  40.   0.   1.   1.   1.   5.  35.\n",
      "   46.   5.   0.   3.   8.  10.   7.   4.   0.   0.   0.   0.   0.   3.\n",
      "  163.  34.  13.   1.   0.   0.   0.  17. 163.  57. 147.   4.   0.   0.\n",
      "    0.   1.  71. 156.  35.   3.   2.   5.   6.   3.   1.   8.   5.   1.\n",
      "    0.   0.   0.   3.  56.  22.   1.   0.   0.   0.   1.  15.  75.   7.\n",
      "   15.   3.   0.   0.   0.   2.  22.  25.   7.   4.   1.   1.   3.   2.\n",
      "    0.   1.]\n",
      " [ 17.   3.   5.   1.   1.   1.  33. 148. 114.  22.  11.   2.   0.   0.\n",
      "    1.  15. 148.  26.   0.   0.  82.  13.   0.   1.  18.   2.   0.   0.\n",
      "  129.  25.   0.   7.   1.   0.   1.   1.   2.   7.  53.  28.  89.  21.\n",
      "    2.   1.   2.  12.  58.  29. 148.  40.   0.   0.  63.  23.   7.  42.\n",
      "   15.   1.   0.   0. 126.  72.  23.  14.   0.   0.   0.   0.   0.   7.\n",
      "  148.  46.  14.   0.   0.   0.   0.  16. 148.  73.  85.   1.   0.   0.\n",
      "   10.  24.  78. 148.   4.   0.   0.   0.  20.  81.  95.  14.   0.   0.\n",
      "    0.   0.   0.   0.  47.   6.   2.   0.   0.   0.   0.   0.  50.  12.\n",
      "    3.   0.   0.   0.   1.   1.  14.  19.   0.   0.   0.   1.   2.   5.\n",
      "    9.   1.]]\n"
     ]
    }
   ],
   "source": [
    "print(data[:2])"
   ]
  },
  {
   "cell_type": "code",
   "execution_count": null,
   "metadata": {
    "colab": {
     "base_uri": "https://localhost:8080/"
    },
    "executionInfo": {
     "elapsed": 15,
     "status": "ok",
     "timestamp": 1740984275193,
     "user": {
      "displayName": "Parsal Silwal",
      "userId": "06443225073077138594"
     },
     "user_tz": -345
    },
    "id": "EyPsSPisBT1f",
    "outputId": "c468571d-a86d-40f7-f05c-b6f12054ec07"
   },
   "outputs": [
    {
     "name": "stdout",
     "output_type": "stream",
     "text": [
      "Shape of stored descriptors: (2504, 128)\n",
      "Total number of elements: 320512\n"
     ]
    }
   ],
   "source": [
    "import numpy as np\n",
    "\n",
    "# Load the .npy file directly\n",
    "data = np.load('/content/drive/MyDrive/banknote_project/descriptors/20.npy', allow_pickle=False)\n",
    "\n",
    "# Check the loaded data shape\n",
    "print(\"Shape of stored descriptors:\", data.shape)\n",
    "print(\"Total number of elements:\", data.size)"
   ]
  },
  {
   "cell_type": "code",
   "execution_count": null,
   "metadata": {
    "colab": {
     "base_uri": "https://localhost:8080/"
    },
    "executionInfo": {
     "elapsed": 7,
     "status": "ok",
     "timestamp": 1740984277463,
     "user": {
      "displayName": "Parsal Silwal",
      "userId": "06443225073077138594"
     },
     "user_tz": -345
    },
    "id": "uq9EBLKIG40R",
    "outputId": "d5f80d14-6243-4f0f-a2c3-6421d465d99b"
   },
   "outputs": [
    {
     "name": "stdout",
     "output_type": "stream",
     "text": [
      "[[  0.   0.   0.   0.   0.   0.   0.   0.  14.   0.   0.   0.   0.   0.\n",
      "    3.  26.  15.   0.   0.   0.   0.   0. 112. 101.   0.   0.   0.   0.\n",
      "    0.   0. 166.  18.   1.   0.   0.   0.   0.   0.   0.   0. 132.   0.\n",
      "    0.   0.   0.   0.   0.  25. 166.   0.   0.   0.   0.   0.  63. 158.\n",
      "   23.   0.   0.   0.   0.   1. 166.  44.   1.   0.   0.   0.   0.   0.\n",
      "    0.   0. 166.   3.   0.   0.   0.   0.   0.   0. 166.   6.   0.   0.\n",
      "    0.   0.   0.   5.  61.   4.   0.   0.   0.   0.   3.   4.   1.   0.\n",
      "    0.   0.   0.   0.   0.   0. 129.   4.   0.   0.   0.   0.   0.   0.\n",
      "  166.  12.   0.   0.   0.   0.   0.   1.  46.   7.   0.   0.   0.   0.\n",
      "    0.   2.]\n",
      " [ 60.   0.   0.   0.   0.   0.   0.   1. 204.   2.   0.   0.   0.   0.\n",
      "    0.   5. 130.   2.   0.   0.   0.   0.   0.   3.   7.   1.   2.   2.\n",
      "    0.   0.   0.   2.  80.   1.   0.   0.   0.   0.   0.   1. 204.   5.\n",
      "    0.   0.   0.   0.   0.   6. 150.  15.   2.   0.   0.   0.   0.   2.\n",
      "    3.   5.   5.   4.   0.   0.   1.   6.  79.   1.   0.   0.   0.   0.\n",
      "    0.   1. 204.  12.   0.   0.   0.   0.   0.   7. 148.  11.   1.   0.\n",
      "    0.   0.   0.  15.   7.   3.   3.   0.   0.   0.   1.  19.  65.   0.\n",
      "    0.   0.   0.   0.   0.   1. 204.   2.   0.   0.   0.   0.   0.  16.\n",
      "  110.   3.   1.   0.   0.   0.   2.  20.   3.   4.   7.   0.   0.   1.\n",
      "    5.   2.]]\n"
     ]
    }
   ],
   "source": [
    "print(data[:2])"
   ]
  },
  {
   "cell_type": "code",
   "execution_count": null,
   "metadata": {
    "colab": {
     "base_uri": "https://localhost:8080/"
    },
    "executionInfo": {
     "elapsed": 11911,
     "status": "ok",
     "timestamp": 1740984302243,
     "user": {
      "displayName": "Parsal Silwal",
      "userId": "06443225073077138594"
     },
     "user_tz": -345
    },
    "id": "CY3CZ46bG6px",
    "outputId": "171d552e-84a5-471f-831a-97209f5313c9"
   },
   "outputs": [
    {
     "name": "stdout",
     "output_type": "stream",
     "text": [
      "Best matched denomination: 50 with 280 good matches\n"
     ]
    }
   ],
   "source": [
    "import cv2\n",
    "import numpy as np\n",
    "import os\n",
    "\n",
    "# Path to stored descriptors\n",
    "descriptor_dir = \"/content/drive/MyDrive/banknote_project/descriptors\"\n",
    "\n",
    "# Load the stored descriptors\n",
    "stored_descriptors = {}\n",
    "denominations = [5, 10, 20, 50, 100, 500, 1000]\n",
    "\n",
    "for denom in denominations:\n",
    "    path = os.path.join(descriptor_dir, f\"{denom}.npy\")\n",
    "    stored_descriptors[denom] = np.load(path)\n",
    "\n",
    "# Function to extract keypoints and descriptors from an image\n",
    "def extract_features(image_path):\n",
    "    img = cv2.imread(image_path, cv2.IMREAD_GRAYSCALE)\n",
    "    if img is None:\n",
    "        print(\"Error loading image\")\n",
    "        return None, None\n",
    "    sift = cv2.SIFT_create()\n",
    "    keypoints, descriptors = sift.detectAndCompute(img, None)\n",
    "    return keypoints, descriptors\n",
    "\n",
    "# Function to match descriptors using FLANN\n",
    "def match_descriptors(desc1, desc2):\n",
    "    if desc1 is None or desc2 is None:\n",
    "        return 0\n",
    "    index_params = dict(algorithm=1, trees=10)  # KDTree for SIFT\n",
    "    search_params = dict(checks=50)\n",
    "    flann = cv2.FlannBasedMatcher(index_params, search_params)\n",
    "    matches = flann.knnMatch(desc1, desc2, k=2)\n",
    "\n",
    "    # Apply Lowe's ratio test\n",
    "    good_matches = []\n",
    "    for m, n in matches:\n",
    "        if m.distance < 0.7 * n.distance:\n",
    "            good_matches.append(m)\n",
    "\n",
    "    return len(good_matches)\n",
    "\n",
    "# Input image path\n",
    "input_image = \"/content/train_hundred_126.jpg\"\n",
    "\n",
    "# Extract keypoints and descriptors from input image\n",
    "keypoints, descriptors = extract_features(input_image)\n",
    "\n",
    "# Compare with stored descriptors and find the best match\n",
    "best_match = None\n",
    "max_matches = 0\n",
    "match_threshold = 200  # Set threshold for matches\n",
    "\n",
    "for denom, stored_desc in stored_descriptors.items():\n",
    "    matches = match_descriptors(descriptors, stored_desc)\n",
    "    if matches > max_matches:\n",
    "        max_matches = matches\n",
    "        best_match = denom\n",
    "\n",
    "# Output result based on threshold\n",
    "if best_match is not None and max_matches >= match_threshold:\n",
    "    print(f\"Best matched denomination: {best_match} with {max_matches} good matches\")\n",
    "else:\n",
    "    print(\"No good match found (below threshold) so fake\")\n"
   ]
  },
  {
   "cell_type": "code",
   "execution_count": null,
   "metadata": {
    "colab": {
     "base_uri": "https://localhost:8080/"
    },
    "executionInfo": {
     "elapsed": 1284,
     "status": "ok",
     "timestamp": 1740984377694,
     "user": {
      "displayName": "Parsal Silwal",
      "userId": "06443225073077138594"
     },
     "user_tz": -345
    },
    "id": "i0zpxXbSwSql",
    "outputId": "e3494505-6d44-4785-93b2-cf473a6463cf"
   },
   "outputs": [
    {
     "name": "stdout",
     "output_type": "stream",
     "text": [
      "No good match found (below threshold) so fake\n"
     ]
    }
   ],
   "source": [
    "# Input image path\n",
    "input_image = \"/content/train_five_2.jpg\"\n",
    "\n",
    "# Extract keypoints and descriptors from input image\n",
    "keypoints, descriptors = extract_features(input_image)\n",
    "\n",
    "# Compare with stored descriptors and find the best match\n",
    "best_match = None\n",
    "max_matches = 0\n",
    "match_threshold = 200  # Set threshold for matches\n",
    "\n",
    "for denom, stored_desc in stored_descriptors.items():\n",
    "    matches = match_descriptors(descriptors, stored_desc)\n",
    "    if matches > max_matches:\n",
    "        max_matches = matches\n",
    "        best_match = denom\n",
    "\n",
    "# Output result based on threshold\n",
    "if best_match is not None and max_matches >= match_threshold:\n",
    "    print(f\"Best matched denomination: {best_match} with {max_matches} good matches\")\n",
    "else:\n",
    "    print(\"No good match found (below threshold) so fake\")\n"
   ]
  },
  {
   "cell_type": "code",
   "execution_count": 3,
   "metadata": {
    "colab": {
     "base_uri": "https://localhost:8080/"
    },
    "executionInfo": {
     "elapsed": 2188,
     "status": "ok",
     "timestamp": 1741084293669,
     "user": {
      "displayName": "Parsal Silwal",
      "userId": "06443225073077138594"
     },
     "user_tz": -345
    },
    "id": "wBPYsrlrqb6X",
    "outputId": "fc65a7bb-7ae8-47fc-f5bc-c5cce04e1bf6"
   },
   "outputs": [
    {
     "name": "stdout",
     "output_type": "stream",
     "text": [
      "No good match found (below threshold) so fake\n"
     ]
    }
   ],
   "source": [
    "import cv2\n",
    "import numpy as np\n",
    "import os\n",
    "\n",
    "# Path to stored descriptors\n",
    "descriptor_dir = \"/content/drive/MyDrive/banknote_project/descriptors\"\n",
    "\n",
    "# Load the stored descriptors\n",
    "stored_descriptors = {}\n",
    "denominations = [5, 10, 20, 50, 100, 500, 1000]\n",
    "\n",
    "for denom in denominations:\n",
    "    path = os.path.join(descriptor_dir, f\"{denom}.npy\")\n",
    "    stored_descriptors[denom] = np.load(path)\n",
    "\n",
    "# Function to extract keypoints and descriptors from an image\n",
    "def extract_features(image_path):\n",
    "    img = cv2.imread(image_path, cv2.IMREAD_GRAYSCALE)\n",
    "    if img is None:\n",
    "        print(\"Error loading image\")\n",
    "        return None, None\n",
    "    sift = cv2.SIFT_create()\n",
    "    keypoints, descriptors = sift.detectAndCompute(img, None)\n",
    "    return keypoints, descriptors\n",
    "\n",
    "# Function to match descriptors using FLANN\n",
    "def match_descriptors(desc1, desc2):\n",
    "    if desc1 is None or desc2 is None:\n",
    "        return 0\n",
    "    index_params = dict(algorithm=1, trees=5)  # KDTree for SIFT\n",
    "    search_params = dict(checks=50)\n",
    "    flann = cv2.FlannBasedMatcher(index_params, search_params)\n",
    "    matches = flann.knnMatch(desc1, desc2, k=2)\n",
    "\n",
    "    # Apply Lowe's ratio test\n",
    "    good_matches = []\n",
    "    for m, n in matches:\n",
    "        if m.distance < 0.7 * n.distance:\n",
    "            good_matches.append(m)\n",
    "\n",
    "    return len(good_matches)\n",
    "\n",
    "# Input image path\n",
    "input_image = \"/content/drive/MyDrive/datset_fake/train/images/Thfake_jpg.rf.68a108567b8c469ea7af9d0e0170ed9b.jpg\"\n",
    "\n",
    "# Extract keypoints and descriptors from input image\n",
    "keypoints, descriptors = extract_features(input_image)\n",
    "\n",
    "# Compare with stored descriptors and find the best match\n",
    "best_match = None\n",
    "max_matches = 0\n",
    "match_threshold = 200  # Set threshold for matches\n",
    "\n",
    "for denom, stored_desc in stored_descriptors.items():\n",
    "    matches = match_descriptors(descriptors, stored_desc)\n",
    "    if matches > max_matches:\n",
    "        max_matches = matches\n",
    "        best_match = denom\n",
    "\n",
    "# Output result based on threshold\n",
    "if best_match is not None and max_matches >= match_threshold:\n",
    "    print(f\"Best matched denomination: {best_match} with {max_matches} good matches\")\n",
    "else:\n",
    "    print(\"No good match found (below threshold) so fake\")\n"
   ]
  },
  {
   "cell_type": "code",
   "execution_count": null,
   "metadata": {
    "id": "7TedIaKiy0qG"
   },
   "outputs": [],
   "source": [
    "/content/Screenshot 2025-02-26 134215.png"
   ]
  },
  {
   "cell_type": "code",
   "execution_count": 4,
   "metadata": {
    "colab": {
     "base_uri": "https://localhost:8080/"
    },
    "executionInfo": {
     "elapsed": 1656,
     "status": "ok",
     "timestamp": 1741084321555,
     "user": {
      "displayName": "Parsal Silwal",
      "userId": "06443225073077138594"
     },
     "user_tz": -345
    },
    "id": "rQZJpG6KzFci",
    "outputId": "e95ceece-43d1-4a5f-b73e-bcdbfe19faed"
   },
   "outputs": [
    {
     "name": "stdout",
     "output_type": "stream",
     "text": [
      "No good match found (below threshold) so fake\n"
     ]
    }
   ],
   "source": [
    "# Input image path\n",
    "input_image = \"/content/drive/MyDrive/datset_fake/train/images/fff500_jpg.rf.a7813ae0f70322bf660c2d07311c156e.jpg\"\n",
    "\n",
    "# Extract keypoints and descriptors from input image\n",
    "keypoints, descriptors = extract_features(input_image)\n",
    "\n",
    "# Compare with stored descriptors and find the best match\n",
    "best_match = None\n",
    "max_matches = 0\n",
    "match_threshold = 200  # Set threshold for matches\n",
    "\n",
    "for denom, stored_desc in stored_descriptors.items():\n",
    "    matches = match_descriptors(descriptors, stored_desc)\n",
    "    if matches > max_matches:\n",
    "        max_matches = matches\n",
    "        best_match = denom\n",
    "\n",
    "# Output result based on threshold\n",
    "if best_match is not None and max_matches >= match_threshold:\n",
    "    print(f\"Best matched denomination: {best_match} with {max_matches} good matches\")\n",
    "else:\n",
    "    print(\"No good match found (below threshold) so fake\")"
   ]
  },
  {
   "cell_type": "code",
   "execution_count": null,
   "metadata": {
    "id": "aMjlUI3czIhT"
   },
   "outputs": [],
   "source": [
    "/content/drive/MyDrive/images/100f.jpg"
   ]
  },
  {
   "cell_type": "code",
   "execution_count": 5,
   "metadata": {
    "colab": {
     "base_uri": "https://localhost:8080/"
    },
    "executionInfo": {
     "elapsed": 1832,
     "status": "ok",
     "timestamp": 1741084345991,
     "user": {
      "displayName": "Parsal Silwal",
      "userId": "06443225073077138594"
     },
     "user_tz": -345
    },
    "id": "ZO0Xjsm1zdMv",
    "outputId": "db02d468-4515-4c4c-f3c7-d76290bb0afd"
   },
   "outputs": [
    {
     "name": "stdout",
     "output_type": "stream",
     "text": [
      "No good match found (below threshold) so fake\n"
     ]
    }
   ],
   "source": [
    "# Input image path\n",
    "input_image = \"/content/drive/MyDrive/datset_fake/train/images/fiftyFake_jpg.rf.a47f0ad200a2c73cbbc8a5e7f54f28e4.jpg\"\n",
    "\n",
    "# Extract keypoints and descriptors from input image\n",
    "keypoints, descriptors = extract_features(input_image)\n",
    "\n",
    "# Compare with stored descriptors and find the best match\n",
    "best_match = None\n",
    "max_matches = 0\n",
    "match_threshold = 200  # Set threshold for matches\n",
    "\n",
    "for denom, stored_desc in stored_descriptors.items():\n",
    "    matches = match_descriptors(descriptors, stored_desc)\n",
    "    if matches > max_matches:\n",
    "        max_matches = matches\n",
    "        best_match = denom\n",
    "\n",
    "# Output result based on threshold\n",
    "if best_match is not None and max_matches >= match_threshold:\n",
    "    print(f\"Best matched denomination: {best_match} with {max_matches} good matches\")\n",
    "else:\n",
    "    print(\"No good match found (below threshold) so fake\")"
   ]
  },
  {
   "cell_type": "code",
   "execution_count": null,
   "metadata": {
    "id": "f_PLk08qzgUB"
   },
   "outputs": [],
   "source": [
    "/content/sample_data/0-02-03-9a05b31dc0758c0ea032a601d93dcd3fb31c7b7ea2a3665d87a56a7f301478bc_239858c6aa5313a.jpg"
   ]
  },
  {
   "cell_type": "code",
   "execution_count": 6,
   "metadata": {
    "colab": {
     "base_uri": "https://localhost:8080/"
    },
    "executionInfo": {
     "elapsed": 2743,
     "status": "ok",
     "timestamp": 1741084476259,
     "user": {
      "displayName": "Parsal Silwal",
      "userId": "06443225073077138594"
     },
     "user_tz": -345
    },
    "id": "V9c5bsO5uHKZ",
    "outputId": "aceb80af-3679-48a4-dbef-f5b6bf033ec9"
   },
   "outputs": [
    {
     "name": "stdout",
     "output_type": "stream",
     "text": [
      "Best matched denomination: 1000 with 434 good matches\n"
     ]
    }
   ],
   "source": [
    "# Input image path\n",
    "input_image = \"/content/sample_data/0-02-03-9a05b31dc0758c0ea032a601d93dcd3fb31c7b7ea2a3665d87a56a7f301478bc_239858c6aa5313a.jpg\"\n",
    "\n",
    "# Extract keypoints and descriptors from input image\n",
    "keypoints, descriptors = extract_features(input_image)\n",
    "\n",
    "# Compare with stored descriptors and find the best match\n",
    "best_match = None\n",
    "max_matches = 0\n",
    "match_threshold = 200  # Set threshold for matches\n",
    "\n",
    "for denom, stored_desc in stored_descriptors.items():\n",
    "    matches = match_descriptors(descriptors, stored_desc)\n",
    "    if matches > max_matches:\n",
    "        max_matches = matches\n",
    "        best_match = denom\n",
    "\n",
    "# Output result based on threshold\n",
    "if best_match is not None and max_matches >= match_threshold:\n",
    "    print(f\"Best matched denomination: {best_match} with {max_matches} good matches\")\n",
    "else:\n",
    "    print(\"No good match found (below threshold) so fake\")"
   ]
  },
  {
   "cell_type": "code",
   "execution_count": 7,
   "metadata": {
    "colab": {
     "base_uri": "https://localhost:8080/"
    },
    "executionInfo": {
     "elapsed": 4066,
     "status": "ok",
     "timestamp": 1741084709338,
     "user": {
      "displayName": "Parsal Silwal",
      "userId": "06443225073077138594"
     },
     "user_tz": -345
    },
    "id": "EQC-9Fg3uLdp",
    "outputId": "550ead99-c223-41bb-94a9-f54e09e52b90"
   },
   "outputs": [
    {
     "name": "stdout",
     "output_type": "stream",
     "text": [
      "No good match found (below threshold) so fake\n"
     ]
    }
   ],
   "source": [
    "# Input image path\n",
    "input_image = \"/content/sample_data/0-02-06-82040d9fe1ac1185b50dd6acd74eaee9bd935e89c61020c5fee3ecdff17b37f4_a1870773074cb0a.jpg\"\n",
    "\n",
    "# Extract keypoints and descriptors from input image\n",
    "keypoints, descriptors = extract_features(input_image)\n",
    "\n",
    "# Compare with stored descriptors and find the best match\n",
    "best_match = None\n",
    "max_matches = 0\n",
    "match_threshold = 200  # Set threshold for matches\n",
    "\n",
    "for denom, stored_desc in stored_descriptors.items():\n",
    "    matches = match_descriptors(descriptors, stored_desc)\n",
    "    if matches > max_matches:\n",
    "        max_matches = matches\n",
    "        best_match = denom\n",
    "\n",
    "# Output result based on threshold\n",
    "if best_match is not None and max_matches >= match_threshold:\n",
    "    print(f\"Best matched denomination: {best_match} with {max_matches} good matches\")\n",
    "else:\n",
    "    print(\"No good match found (below threshold) so fake\")"
   ]
  },
  {
   "cell_type": "code",
   "execution_count": 8,
   "metadata": {
    "colab": {
     "base_uri": "https://localhost:8080/"
    },
    "executionInfo": {
     "elapsed": 3282,
     "status": "ok",
     "timestamp": 1741087705632,
     "user": {
      "displayName": "Parsal Silwal",
      "userId": "06443225073077138594"
     },
     "user_tz": -345
    },
    "id": "orEWLQMTvECo",
    "outputId": "56ce674d-c76f-4ad5-db31-d2e9248edf85"
   },
   "outputs": [
    {
     "name": "stdout",
     "output_type": "stream",
     "text": [
      "Best matched denomination: 10 with 383 good matches\n"
     ]
    }
   ],
   "source": [
    "# Input image path\n",
    "input_image = \"/content/ten.jpg\"\n",
    "\n",
    "# Extract keypoints and descriptors from input image\n",
    "keypoints, descriptors = extract_features(input_image)\n",
    "\n",
    "# Compare with stored descriptors and find the best match\n",
    "best_match = None\n",
    "max_matches = 0\n",
    "match_threshold = 200  # Set threshold for matches\n",
    "\n",
    "for denom, stored_desc in stored_descriptors.items():\n",
    "    matches = match_descriptors(descriptors, stored_desc)\n",
    "    if matches > max_matches:\n",
    "        max_matches = matches\n",
    "        best_match = denom\n",
    "\n",
    "# Output result based on threshold\n",
    "if best_match is not None and max_matches >= match_threshold:\n",
    "    print(f\"Best matched denomination: {best_match} with {max_matches} good matches\")\n",
    "else:\n",
    "    print(\"No good match found (below threshold) so fake\")"
   ]
  },
  {
   "cell_type": "code",
   "execution_count": 9,
   "metadata": {
    "colab": {
     "base_uri": "https://localhost:8080/"
    },
    "executionInfo": {
     "elapsed": 2903,
     "status": "ok",
     "timestamp": 1741087780726,
     "user": {
      "displayName": "Parsal Silwal",
      "userId": "06443225073077138594"
     },
     "user_tz": -345
    },
    "id": "XlaAAOWG6fwA",
    "outputId": "0b4b10a3-96c7-4f8f-c706-bc92c2fa4df7"
   },
   "outputs": [
    {
     "name": "stdout",
     "output_type": "stream",
     "text": [
      "Best matched denomination: 1000 with 437 good matches\n"
     ]
    }
   ],
   "source": [
    "# Input image path\n",
    "input_image = \"/content/1000.jpg\"\n",
    "\n",
    "# Extract keypoints and descriptors from input image\n",
    "keypoints, descriptors = extract_features(input_image)\n",
    "\n",
    "# Compare with stored descriptors and find the best match\n",
    "best_match = None\n",
    "max_matches = 0\n",
    "match_threshold = 200  # Set threshold for matches\n",
    "\n",
    "for denom, stored_desc in stored_descriptors.items():\n",
    "    matches = match_descriptors(descriptors, stored_desc)\n",
    "    if matches > max_matches:\n",
    "        max_matches = matches\n",
    "        best_match = denom\n",
    "\n",
    "# Output result based on threshold\n",
    "if best_match is not None and max_matches >= match_threshold:\n",
    "    print(f\"Best matched denomination: {best_match} with {max_matches} good matches\")\n",
    "else:\n",
    "    print(\"No good match found (below threshold) so fake\")"
   ]
  },
  {
   "cell_type": "code",
   "execution_count": 10,
   "metadata": {
    "colab": {
     "base_uri": "https://localhost:8080/"
    },
    "executionInfo": {
     "elapsed": 2724,
     "status": "ok",
     "timestamp": 1741087819843,
     "user": {
      "displayName": "Parsal Silwal",
      "userId": "06443225073077138594"
     },
     "user_tz": -345
    },
    "id": "Xy-F-oPf6yLi",
    "outputId": "ba9cac7b-4f8f-4859-c749-7d73b50cdae5"
   },
   "outputs": [
    {
     "name": "stdout",
     "output_type": "stream",
     "text": [
      "Best matched denomination: 1000 with 399 good matches\n"
     ]
    }
   ],
   "source": [
    "# Input image path\n",
    "input_image = \"/content/fake1000.jpg\"\n",
    "\n",
    "# Extract keypoints and descriptors from input image\n",
    "keypoints, descriptors = extract_features(input_image)\n",
    "\n",
    "# Compare with stored descriptors and find the best match\n",
    "best_match = None\n",
    "max_matches = 0\n",
    "match_threshold = 200  # Set threshold for matches\n",
    "\n",
    "for denom, stored_desc in stored_descriptors.items():\n",
    "    matches = match_descriptors(descriptors, stored_desc)\n",
    "    if matches > max_matches:\n",
    "        max_matches = matches\n",
    "        best_match = denom\n",
    "\n",
    "# Output result based on threshold\n",
    "if best_match is not None and max_matches >= match_threshold:\n",
    "    print(f\"Best matched denomination: {best_match} with {max_matches} good matches\")\n",
    "else:\n",
    "    print(\"No good match found (below threshold) so fake\")"
   ]
  },
  {
   "cell_type": "code",
   "execution_count": 11,
   "metadata": {
    "colab": {
     "base_uri": "https://localhost:8080/"
    },
    "executionInfo": {
     "elapsed": 1468,
     "status": "ok",
     "timestamp": 1741087878203,
     "user": {
      "displayName": "Parsal Silwal",
      "userId": "06443225073077138594"
     },
     "user_tz": -345
    },
    "id": "Q3FYP_yL67xl",
    "outputId": "7a2dd6ee-20ec-4d3d-f2b5-37cf5290de0f"
   },
   "outputs": [
    {
     "name": "stdout",
     "output_type": "stream",
     "text": [
      "No good match found (below threshold) so fake\n"
     ]
    }
   ],
   "source": [
    "# Input image path\n",
    "input_image = \"/content/tfake.jpg\"\n",
    "\n",
    "# Extract keypoints and descriptors from input image\n",
    "keypoints, descriptors = extract_features(input_image)\n",
    "\n",
    "# Compare with stored descriptors and find the best match\n",
    "best_match = None\n",
    "max_matches = 0\n",
    "match_threshold = 200  # Set threshold for matches\n",
    "\n",
    "for denom, stored_desc in stored_descriptors.items():\n",
    "    matches = match_descriptors(descriptors, stored_desc)\n",
    "    if matches > max_matches:\n",
    "        max_matches = matches\n",
    "        best_match = denom\n",
    "\n",
    "# Output result based on threshold\n",
    "if best_match is not None and max_matches >= match_threshold:\n",
    "    print(f\"Best matched denomination: {best_match} with {max_matches} good matches\")\n",
    "else:\n",
    "    print(\"No good match found (below threshold) so fake\")"
   ]
  },
  {
   "cell_type": "code",
   "execution_count": 12,
   "metadata": {
    "colab": {
     "base_uri": "https://localhost:8080/"
    },
    "executionInfo": {
     "elapsed": 5024,
     "status": "ok",
     "timestamp": 1741088011114,
     "user": {
      "displayName": "Parsal Silwal",
      "userId": "06443225073077138594"
     },
     "user_tz": -345
    },
    "id": "EPoWTEER7KUs",
    "outputId": "7a3efc03-5c7a-47b1-bae9-9fc5ae6e5d08"
   },
   "outputs": [
    {
     "name": "stdout",
     "output_type": "stream",
     "text": [
      "No good match found (below threshold) so fake\n"
     ]
    }
   ],
   "source": [
    "# Input image path\n",
    "input_image = \"/content/500.jpg\"\n",
    "\n",
    "# Extract keypoints and descriptors from input image\n",
    "keypoints, descriptors = extract_features(input_image)\n",
    "\n",
    "# Compare with stored descriptors and find the best match\n",
    "best_match = None\n",
    "max_matches = 0\n",
    "match_threshold = 200  # Set threshold for matches\n",
    "\n",
    "for denom, stored_desc in stored_descriptors.items():\n",
    "    matches = match_descriptors(descriptors, stored_desc)\n",
    "    if matches > max_matches:\n",
    "        max_matches = matches\n",
    "        best_match = denom\n",
    "\n",
    "# Output result based on threshold\n",
    "if best_match is not None and max_matches >= match_threshold:\n",
    "    print(f\"Best matched denomination: {best_match} with {max_matches} good matches\")\n",
    "else:\n",
    "    print(\"No good match found (below threshold) so fake\")"
   ]
  },
  {
   "cell_type": "code",
   "execution_count": 21,
   "metadata": {
    "colab": {
     "base_uri": "https://localhost:8080/"
    },
    "executionInfo": {
     "elapsed": 6737,
     "status": "ok",
     "timestamp": 1741093667189,
     "user": {
      "displayName": "Parsal Silwal",
      "userId": "06443225073077138594"
     },
     "user_tz": -345
    },
    "id": "64YxhMvg7p59",
    "outputId": "a1eae064-0cde-4aee-c171-02d3363153dc"
   },
   "outputs": [
    {
     "name": "stdout",
     "output_type": "stream",
     "text": [
      "Best matched denomination: 50 with 274 good matches\n"
     ]
    }
   ],
   "source": [
    "# Input image path\n",
    "input_image = \"/content/50.jpg\"\n",
    "\n",
    "# Extract keypoints and descriptors from input image\n",
    "keypoints, descriptors = extract_features(input_image)\n",
    "\n",
    "# Compare with stored descriptors and find the best match\n",
    "best_match = None\n",
    "max_matches = 0\n",
    "match_threshold = 200  # Set threshold for matches\n",
    "\n",
    "for denom, stored_desc in stored_descriptors.items():\n",
    "    matches = match_descriptors(descriptors, stored_desc)\n",
    "    if matches > max_matches:\n",
    "        max_matches = matches\n",
    "        best_match = denom\n",
    "\n",
    "# Output result based on threshold\n",
    "if best_match is not None and max_matches >= match_threshold:\n",
    "    print(f\"Best matched denomination: {best_match} with {max_matches} good matches\")\n",
    "else:\n",
    "    print(\"No good match found (below threshold) so fake\")"
   ]
  },
  {
   "cell_type": "code",
   "execution_count": null,
   "metadata": {
    "id": "nlphw1rIMcHC"
   },
   "outputs": [],
   "source": []
  }
 ],
 "metadata": {
  "colab": {
   "authorship_tag": "ABX9TyMgrxOezs2ZqpoCBSnfiFU+",
   "mount_file_id": "1-k5eTogMeGVP3hs2np12z6zvQnXN2xoc",
   "provenance": []
  },
  "kernelspec": {
   "display_name": "Python 3",
   "name": "python3"
  },
  "language_info": {
   "name": "python"
  }
 },
 "nbformat": 4,
 "nbformat_minor": 0
}
